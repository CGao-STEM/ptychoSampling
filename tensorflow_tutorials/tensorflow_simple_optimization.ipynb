{
 "cells": [
  {
   "cell_type": "code",
   "execution_count": 1,
   "metadata": {
    "ExecuteTime": {
     "end_time": "2018-04-21T03:39:32.315467Z",
     "start_time": "2018-04-21T03:39:30.824942Z"
    }
   },
   "outputs": [],
   "source": [
    "import numpy as np\n",
    "import tensorflow as tf\n",
    "import matplotlib.pyplot as plt"
   ]
  },
  {
   "cell_type": "code",
   "execution_count": 2,
   "metadata": {
    "ExecuteTime": {
     "end_time": "2018-04-21T03:39:33.701062Z",
     "start_time": "2018-04-21T03:39:33.694763Z"
    }
   },
   "outputs": [],
   "source": [
    "def lossFunctionConstant(var):\n",
    "    \"\"\"Very simple least squares loss function, solution = 3.\n",
    "    \n",
    "    Parameters:\n",
    "    var - Tensorflow variable to optimize\n",
    "    \n",
    "    Returns:\n",
    "    A tensor that contains the loss value.\n",
    "    \"\"\"\n",
    "    return (var - 3)**2"
   ]
  },
  {
   "cell_type": "code",
   "execution_count": 3,
   "metadata": {
    "ExecuteTime": {
     "end_time": "2018-04-21T03:39:34.770523Z",
     "start_time": "2018-04-21T03:39:34.764857Z"
    }
   },
   "outputs": [],
   "source": [
    "def lossFunctionPlaceholder(var, placeholder):\n",
    "    \"\"\"Loss function to calculate the square root of any given number.\n",
    "    \n",
    "    Parameters:\n",
    "    var - Tensorflow variable to optimize\n",
    "    \n",
    "    placeholder - \n",
    "    A tensorflow \"placeholder\" that specifies which number to calculate the square root of.\n",
    "    Needs to be supplied through feed_dict when invoking session.run().\n",
    "    \"\"\"\n",
    "    return (var**2 - placeholder)**2"
   ]
  },
  {
   "cell_type": "code",
   "execution_count": 4,
   "metadata": {
    "ExecuteTime": {
     "end_time": "2018-04-21T03:39:35.944796Z",
     "start_time": "2018-04-21T03:39:35.938734Z"
    }
   },
   "outputs": [],
   "source": [
    "def complicatedLossFunction(var1, var2, plh1, plh2):\n",
    "    \"\"\"Sample loss function with two variables to optimize as well as two placeholders.\n",
    "    \n",
    "    Parameters:\n",
    "    var1, var2 - variables to optimizer\n",
    "    \n",
    "    plh1, plh2 - placeholderes\n",
    "    \"\"\"\n",
    "    return ((plh1 * var1 - 2)**2 + 0.1) * ((plh2 * var2 - 3)**2 + 0.1)"
   ]
  },
  {
   "cell_type": "code",
   "execution_count": 5,
   "metadata": {
    "ExecuteTime": {
     "end_time": "2018-04-21T04:49:45.856443Z",
     "start_time": "2018-04-21T04:49:45.846216Z"
    }
   },
   "outputs": [],
   "source": [
    "def genPlot(list_arrays, list_ylabels):\n",
    "    if len(list_arrays) != len(list_ylabels):\n",
    "        raise ValueError(\"number of ylabels should match the number of arrays.\")\n",
    "    \n",
    "    n_plots = len(list_arrays) \n",
    "    # Maximum of four plots in one row. \n",
    "    n_rows = np.ceil(n_plots / 4).astype('int')\n",
    "    \n",
    "    plt.figure(figsize=[12, 3 * n_rows])\n",
    "    for indx, (arr, ylabel) in enumerate(zip(list_arrays, list_ylabels)):\n",
    "        plt.subplot(n_rows, 4, indx + 1)\n",
    "        plt.plot(arr)\n",
    "        plt.xlabel('Steps')\n",
    "        plt.ylabel(ylabel)\n",
    "    plt.tight_layout()\n",
    "    plt.show()"
   ]
  },
  {
   "cell_type": "markdown",
   "metadata": {},
   "source": [
    "## Example 1 - simple optimization##"
   ]
  },
  {
   "cell_type": "code",
   "execution_count": 6,
   "metadata": {
    "ExecuteTime": {
     "end_time": "2018-04-21T03:39:37.410868Z",
     "start_time": "2018-04-21T03:39:37.405629Z"
    }
   },
   "outputs": [],
   "source": [
    "# Simple test case:\n",
    "# 1) Create a variable \n",
    "# 2) Specify the loss function\n",
    "# 3) Create an optimizer\n",
    "# 4) Create a minimizer operation\n",
    "# 5) Create and initialize a session\n",
    "# 6) Minimize!"
   ]
  },
  {
   "cell_type": "code",
   "execution_count": 7,
   "metadata": {
    "ExecuteTime": {
     "end_time": "2018-04-21T03:39:38.699569Z",
     "start_time": "2018-04-21T03:39:37.901984Z"
    }
   },
   "outputs": [],
   "source": [
    "# operations in this cell set up the computational graph for backpropagation. \n",
    "# (not necessary to collect them in a single cell - just making a point)\n",
    "\n",
    "# Creating a variable with an initial value of 0.0\n",
    "var1 = tf.Variable(0.0)\n",
    "\n",
    "# Specifying the loss function\n",
    "lossfn1 = lossFunctionConstant(var1)\n",
    "\n",
    "# Creating an optimizer with a constant learning rate\n",
    "# For this loss function, we know that the Lipschitz constant is 2.\n",
    "# So we can use a vanilla gradient descent method.\n",
    "# For the single variable quadratic loss function above, a single step of gradient descent should be sufficient.\n",
    "lips_const1 = 2\n",
    "learning_rate1 = 1 / lips_const1\n",
    "optimizer1 = tf.train.GradientDescentOptimizer(learning_rate1)\n",
    "\n",
    "# Operation that (internally) \n",
    "# a) calculates the gradient for the specified loss function wrt the specified variable\n",
    "# b) applies the gradient with the chosen optimization scheme (vanilla grad descent here)\n",
    "# Since we only have one variable, we don't need to specify it explicitly.\n",
    "minimize_op1 = optimizer1.minimize(lossfn1) \n",
    "\n",
    "# Create and initialize a session\n",
    "session1 = tf.Session()\n",
    "session1.run(tf.global_variables_initializer())"
   ]
  },
  {
   "cell_type": "code",
   "execution_count": 8,
   "metadata": {
    "ExecuteTime": {
     "end_time": "2018-04-21T03:39:38.888789Z",
     "start_time": "2018-04-21T03:39:38.866133Z"
    }
   },
   "outputs": [
    {
     "name": "stdout",
     "output_type": "stream",
     "text": [
      "Initial loss is 9.0 and initial variable value is 0.0\n",
      "Final loss is 0.0 and final variable value is 3.0\n"
     ]
    }
   ],
   "source": [
    "# Run the optimization procedure\n",
    "\n",
    "# Individual queries for the initial values\n",
    "lossval_init1 = session1.run(lossfn1)\n",
    "varval_init1 = session1.run(var1)\n",
    "print('Initial loss is', lossval_init1, 'and initial variable value is', varval_init1)\n",
    "\n",
    "# Actual minimization step\n",
    "# For this loss function, when the lipschitz constant is supplied, only one step of gradient descent is sufficient. \n",
    "session1.run(minimize_op1)\n",
    "\n",
    "# Querying both loss and variable value at once\n",
    "lossval_final1, varval_final1 = session1.run([lossfn1, var1])\n",
    "print('Final loss is', lossval_final1, 'and final variable value is', varval_final1)"
   ]
  },
  {
   "cell_type": "code",
   "execution_count": 9,
   "metadata": {
    "ExecuteTime": {
     "end_time": "2018-04-21T04:53:00.798011Z",
     "start_time": "2018-04-21T04:53:00.791801Z"
    }
   },
   "outputs": [],
   "source": [
    "# Remove everything that tensorflow has so far stored in the memory\n",
    "tf.reset_default_graph()"
   ]
  },
  {
   "cell_type": "markdown",
   "metadata": {},
   "source": [
    "## Example 2 - placeholder ##"
   ]
  },
  {
   "cell_type": "code",
   "execution_count": 10,
   "metadata": {
    "ExecuteTime": {
     "end_time": "2018-04-21T04:53:02.049905Z",
     "start_time": "2018-04-21T04:53:01.769184Z"
    }
   },
   "outputs": [],
   "source": [
    "# More complicated loss function to calculate the square root of any supplied number\n",
    "\n",
    "# Create a placeholder - have to specify what kind of data it will hold.\n",
    "placeholder2 = tf.placeholder(dtype=tf.float32)\n",
    "\n",
    "# variable creation is as before \n",
    "# I am not using 0 as an initial value because 0 is a local minimum.\n",
    "var2 = tf.Variable(0.01)\n",
    "\n",
    "# to create the loss function, we need the placeholder as a paremeter\n",
    "lossfn2 = lossFunctionPlaceholder(var2, placeholder2)\n",
    "\n",
    "# It is not obvious what the lipschitz constant is for this loss function\n",
    "# we use an adaptive gradient descent optimizer - Adam\n",
    "# an initial step size of 1e-2 should be a safe value\n",
    "learning_rate2 = 1e-2\n",
    "optimizer2 = tf.train.AdamOptimizer(learning_rate2)\n",
    "\n",
    "# Note that the minimize operation only minimizes the variable, NOT the placeholder\n",
    "minimize_op2 = optimizer2.minimize(lossfn2)\n",
    "\n",
    "# if we want to track the gradient value as well\n",
    "# the var_list argument is not required if we want to calculate the gradients wrt all the variables\n",
    "grads_and_vars2 = optimizer2.compute_gradients(lossfn2, var_list=[var2])\n",
    "\n",
    "session2 = tf.Session()\n",
    "session2.run(tf.global_variables_initializer())"
   ]
  },
  {
   "cell_type": "code",
   "execution_count": 11,
   "metadata": {
    "ExecuteTime": {
     "end_time": "2018-04-21T04:53:02.645410Z",
     "start_time": "2018-04-21T04:53:02.636256Z"
    }
   },
   "outputs": [
    {
     "name": "stdout",
     "output_type": "stream",
     "text": [
      "Needs a placeholder\n"
     ]
    }
   ],
   "source": [
    "# Trying to calculate the loss without supplying the placeholder doesn't work\n",
    "try:\n",
    "    session2.run(lossfn2)\n",
    "except tf.errors.InvalidArgumentError:\n",
    "    print('Needs a placeholder')"
   ]
  },
  {
   "cell_type": "code",
   "execution_count": 12,
   "metadata": {
    "ExecuteTime": {
     "end_time": "2018-04-21T04:53:05.314242Z",
     "start_time": "2018-04-21T04:53:03.760156Z"
    }
   },
   "outputs": [
    {
     "name": "stdout",
     "output_type": "stream",
     "text": [
      "Initial and final values after 298 steps of iteration\n",
      "Loss 48.998596 ---> 8.961542e-06\n",
      "Variable 0.01 ---> 2.6451855\n"
     ]
    },
    {
     "data": {
      "image/png": "[encoded data removed]",
      "text/plain": [
       "<Figure size 864x216 with 3 Axes>"
      ]
     },
     "metadata": {},
     "output_type": "display_data"
    }
   ],
   "source": [
    "# Run the optimization procedure to calculate the square root of 7\n",
    "param2 = 7.0\n",
    "# We are storing the intermediate values for analysis later\n",
    "lossvals2 = []\n",
    "varvals2 = []\n",
    "gradvals2 = []\n",
    "\n",
    "# 5000 steps of minimization should be sufficient\n",
    "for i in range(5000):\n",
    "    lossval, grad_var_vals = session2.run([lossfn2, grads_and_vars2], \n",
    "                                          feed_dict={placeholder2:param2})\n",
    "    lossvals2.append(lossval)\n",
    "    varvals2.append(grad_var_vals[0][1])\n",
    "    gradvals2.append(grad_var_vals[0][0])\n",
    "    \n",
    "    # Stop the optimization if loss is less than 1e-5\n",
    "    if lossval < 1e-5:\n",
    "        break\n",
    "    \n",
    "    # Need to supply the placeholder for the gradient calculation for the minimize op\n",
    "    session2.run(minimize_op2, feed_dict={placeholder2: param2})\n",
    "\n",
    "print('Initial and final values after %d steps of iteration'%len(lossvals2))\n",
    "print('Loss', lossvals2[0], '--->', lossvals2[-1])\n",
    "print('Variable', varvals2[0], '--->', varvals2[-1])\n",
    "\n",
    "genPlot([lossvals2, varvals2, gradvals2],\n",
    "        ['Loss', 'Variable value', 'Gradient value'])"
   ]
  },
  {
   "cell_type": "code",
   "execution_count": 46,
   "metadata": {
    "ExecuteTime": {
     "end_time": "2018-04-21T04:55:50.951625Z",
     "start_time": "2018-04-21T04:55:49.335396Z"
    },
    "code_folding": [
     7
    ]
   },
   "outputs": [
    {
     "name": "stdout",
     "output_type": "stream",
     "text": [
      "Initial and final values after 434 steps of iteration\n",
      "Loss 900.1796 ---> 9.571099e-06\n",
      "Variable 2.6451855 ---> 6.082508\n"
     ]
    },
    {
     "data": {
      "image/png": "[encoded data removed]",
      "text/plain": [
       "<Figure size 864x216 with 3 Axes>"
      ]
     },
     "metadata": {},
     "output_type": "display_data"
    }
   ],
   "source": [
    "# Using the same computational graph, run the optimization procedure to calculate the square root of 37\n",
    "param2_new = 37\n",
    "\n",
    "lossvals_new2 = []\n",
    "varvals_new2 = []\n",
    "gradvals_new2 = []\n",
    "\n",
    "# 5000 steps of minimization should be sufficient\n",
    "for i in range(5000):\n",
    "    lossval, grad_var_vals = session2.run([lossfn2, grads_and_vars2], feed_dict={placeholder2:param2_new})\n",
    "    lossvals_new2.append(lossval)\n",
    "    varvals_new2.append(grad_var_vals[0][1])\n",
    "    gradvals_new2.append(grad_var_vals[0][0])\n",
    "    \n",
    "    # Stop the optimization if loss is less than 1e-5\n",
    "    if lossval < 1e-5:\n",
    "        break\n",
    "    \n",
    "    session2.run(minimize_op2, feed_dict={placeholder2: param2_new})\n",
    "    \n",
    "print('Initial and final values after %d steps of iteration'%len(lossvals_new2))\n",
    "print('Loss', lossvals_new2[0], '--->', lossvals_new2[-1])\n",
    "print('Variable', varvals_new2[0], '--->', varvals_new2[-1])\n",
    "\n",
    "genPlot([lossvals_new2, varvals_new2, gradvals_new2],\n",
    "        ['Loss', 'Variable value', 'Gradient value'])"
   ]
  },
  {
   "cell_type": "markdown",
   "metadata": {},
   "source": [
    "## Example 3 - Changing the variable value manually ##"
   ]
  },
  {
   "cell_type": "code",
   "execution_count": 47,
   "metadata": {
    "ExecuteTime": {
     "end_time": "2018-04-21T04:56:41.835922Z",
     "start_time": "2018-04-21T04:56:41.715591Z"
    }
   },
   "outputs": [],
   "source": [
    "# What if we want to be able to change the variable value manually?\n",
    "\n",
    "# Up to minimize op creation is as before\n",
    "tf.reset_default_graph()\n",
    "\n",
    "placeholder_loss3 = tf.placeholder(dtype=tf.float32)\n",
    "\n",
    "var3 = tf.Variable(0.01)\n",
    "\n",
    "lossfn3 = lossFunctionPlaceholder(var3, placeholder_loss3)\n",
    "\n",
    "learning_rate3 = 1e-2\n",
    "optimizer3 = tf.train.AdamOptimizer(learning_rate3)\n",
    "minimize_op3 = optimizer3.minimize(lossfn3)"
   ]
  },
  {
   "cell_type": "code",
   "execution_count": 48,
   "metadata": {
    "ExecuteTime": {
     "end_time": "2018-04-21T04:56:42.530988Z",
     "start_time": "2018-04-21T04:56:42.490258Z"
    }
   },
   "outputs": [],
   "source": [
    "# We need to create a placeholder for the manual variable assignment before initializing the session\n",
    "# Note that the loss function and the optimizer itself don't depend on the variable value.\n",
    "placeholder_var3 = tf.placeholder(dtype=tf.float32)\n",
    "\n",
    "# We need to create an operation that handles the assignment\n",
    "var_assign_op3 = var3.assign(placeholder_var3)\n",
    "\n",
    "session3 = tf.Session()\n",
    "session3.run(tf.global_variables_initializer())"
   ]
  },
  {
   "cell_type": "code",
   "execution_count": 49,
   "metadata": {
    "ExecuteTime": {
     "end_time": "2018-04-21T04:56:49.062918Z",
     "start_time": "2018-04-21T04:56:48.800067Z"
    }
   },
   "outputs": [
    {
     "name": "stdout",
     "output_type": "stream",
     "text": [
      "Initial and final values after 100 steps of iteration\n",
      "Loss 974168.75 ---> 970490.56\n",
      "Variable 0.01 ---> 1.3657365\n"
     ]
    }
   ],
   "source": [
    "# Calculate square root of 987\n",
    "param3 = 987\n",
    "\n",
    "# Run 100 steps of optimization\n",
    "lossvals3 = []\n",
    "varvals3 = []\n",
    "\n",
    "for i in range(100):\n",
    "    lossval, varval = session3.run([lossfn3, var3], feed_dict={placeholder_loss3:param3})\n",
    "    lossvals3.append(lossval)\n",
    "    varvals3.append(varval)\n",
    "    \n",
    "    if lossval < 1e-5:\n",
    "        break\n",
    "    session3.run(minimize_op3, feed_dict={placeholder_loss3: param3})\n",
    "\n",
    "print('Initial and final values after %d steps of iteration'%len(lossvals3))\n",
    "print('Loss', lossvals3[0], '--->', lossvals3[-1])\n",
    "print('Variable', varvals3[0], '--->', varvals3[-1])"
   ]
  },
  {
   "cell_type": "code",
   "execution_count": 50,
   "metadata": {
    "ExecuteTime": {
     "end_time": "2018-04-21T04:57:58.520030Z",
     "start_time": "2018-04-21T04:57:57.422748Z"
    }
   },
   "outputs": [
    {
     "name": "stdout",
     "output_type": "stream",
     "text": [
      "Initial and final values after 467 steps of iteration\n",
      "Loss 974168.75 ---> 9.313226e-06\n",
      "Variable 0.01 ---> 31.416508\n"
     ]
    },
    {
     "data": {
      "image/png": "[encoded data removed]",
      "text/plain": [
       "<Figure size 864x216 with 2 Axes>"
      ]
     },
     "metadata": {},
     "output_type": "display_data"
    }
   ],
   "source": [
    "# SUDDENlY, we realize that the square root of 987 is much closer to 30 than to 0.01\n",
    "\n",
    "# Assign a value to the variable\n",
    "session3.run(var_assign_op3, feed_dict={placeholder_var3:30})\n",
    "\n",
    "for i in range(5000):\n",
    "    lossval, varval = session3.run([lossfn3, var3], feed_dict={placeholder_loss3:param3})\n",
    "    lossvals3.append(lossval)\n",
    "    varvals3.append(varval)\n",
    "    \n",
    "    if lossval < 1e-5:\n",
    "        break\n",
    "    session3.run(minimize_op3, feed_dict={placeholder_loss3: param3})\n",
    "\n",
    "print('Initial and final values after %d steps of iteration'%len(lossvals3))\n",
    "print('Loss', lossvals3[0], '--->', lossvals3[-1])\n",
    "print('Variable', varvals3[0], '--->', varvals3[-1])\n",
    "\n",
    "genPlot([np.log(lossvals3), varvals3], ['Log(loss)', 'Variable value'])"
   ]
  },
  {
   "cell_type": "markdown",
   "metadata": {},
   "source": [
    "## Example 4 - solving for arrays ##"
   ]
  },
  {
   "cell_type": "code",
   "execution_count": 56,
   "metadata": {
    "ExecuteTime": {
     "end_time": "2018-04-21T05:02:45.310462Z",
     "start_time": "2018-04-21T05:02:45.301981Z"
    }
   },
   "outputs": [],
   "source": [
    "# What if we want to find the square root of five numbers at once?\n",
    "tf.reset_default_graph()\n",
    "params4 = [2, 20, 40, 21, 83]\n",
    "placeholder_loss4 = tf.placeholder(dtype=tf.float32)"
   ]
  },
  {
   "cell_type": "code",
   "execution_count": 57,
   "metadata": {
    "ExecuteTime": {
     "end_time": "2018-04-21T05:02:45.855720Z",
     "start_time": "2018-04-21T05:02:45.848428Z"
    }
   },
   "outputs": [],
   "source": [
    "# The variable should now contain 5 different numbers\n",
    "var4 = tf.Variable([0.01, 0.01, 0.01, 0.01, 0.01])"
   ]
  },
  {
   "cell_type": "code",
   "execution_count": 58,
   "metadata": {
    "ExecuteTime": {
     "end_time": "2018-04-21T05:02:46.617659Z",
     "start_time": "2018-04-21T05:02:46.409032Z"
    }
   },
   "outputs": [],
   "source": [
    "# For the loss function, we now have to sum the five individual losses\n",
    "lossfn4 = tf.reduce_sum(lossFunctionPlaceholder(var4, placeholder_loss4))\n",
    "\n",
    "# This is same as before\n",
    "learning_rate4 = 1e-2\n",
    "optimizer4 = tf.train.AdamOptimizer(learning_rate4)\n",
    "minimize_op4 = optimizer3.minimize(lossfn4)\n",
    "\n",
    "session4 = tf.Session()\n",
    "session4.run(tf.global_variables_initializer())"
   ]
  },
  {
   "cell_type": "code",
   "execution_count": 59,
   "metadata": {
    "ExecuteTime": {
     "end_time": "2018-04-21T05:02:50.410682Z",
     "start_time": "2018-04-21T05:02:47.925882Z"
    }
   },
   "outputs": [
    {
     "name": "stdout",
     "output_type": "stream",
     "text": [
      "Initial and final values after 1000 steps of iteration\n",
      "Loss 9333.967 ---> 0.33540297\n",
      "Variable [0.01 0.01 0.01 0.01 0.01] ---> [1.4142137 4.4721317 6.324521  4.582571  9.078593 ]\n"
     ]
    },
    {
     "data": {
      "image/png": "[encoded data removed]",
      "text/plain": [
       "<Figure size 864x432 with 6 Axes>"
      ]
     },
     "metadata": {},
     "output_type": "display_data"
    }
   ],
   "source": [
    "# Run 1000 steps of optimization\n",
    "lossvals4 = []\n",
    "varvals4 = [] # This is now a 2d array\n",
    "\n",
    "for i in range(1000):\n",
    "    lossval, varval = session4.run([lossfn4, var4], feed_dict={placeholder_loss4:params4})\n",
    "    lossvals4.append(lossval)\n",
    "    varvals4.append(varval)\n",
    "    \n",
    "    if lossval < 1e-5:\n",
    "        break\n",
    "    session4.run(minimize_op4, feed_dict={placeholder_loss4: params4})\n",
    "    \n",
    "print('Initial and final values after %d steps of iteration'%len(lossvals4))\n",
    "print('Loss', lossvals4[0], '--->', lossvals4[-1])\n",
    "print('Variable', varvals4[0], '--->', varvals4[-1])\n",
    "\n",
    "        \n",
    "varvals4 = np.array(varvals4).T\n",
    "genPlot([np.log(lossvals4)] + [l for l in varvals4],\n",
    "        ['Log(loss)'] + ['var[%d]'%i for i in range(len(varvals4))])"
   ]
  },
  {
   "cell_type": "markdown",
   "metadata": {},
   "source": [
    "## Example 5 - Alternating minimization for multiple variables ##\n",
    "\n",
    "For the loss function of the form\n",
    "$$\n",
    "f(v_1, v_2) = \\left[(\\phi_1 v_1 - 2)^2 + 0.1\\right]\\left[(\\phi_2 v_2 - 3)^2 + 0.1\\right]\n",
    "$$\n",
    "where $v_1, v_2$ are the variables and $\\phi_1, \\phi_2$ are the placeholders, alternating minimization seems like the best approach"
   ]
  },
  {
   "cell_type": "code",
   "execution_count": 63,
   "metadata": {
    "ExecuteTime": {
     "end_time": "2018-04-21T05:06:22.705801Z",
     "start_time": "2018-04-21T05:06:22.694079Z"
    }
   },
   "outputs": [],
   "source": [
    "tf.reset_default_graph()\n",
    "\n",
    "# Using phi1 = 7, phi2 = 32\n",
    "params5 = [7, 3]\n",
    "placeholder_loss5 = tf.placeholder(dtype=tf.float32)"
   ]
  },
  {
   "cell_type": "code",
   "execution_count": 64,
   "metadata": {
    "ExecuteTime": {
     "end_time": "2018-04-21T05:06:24.409823Z",
     "start_time": "2018-04-21T05:06:24.173673Z"
    }
   },
   "outputs": [],
   "source": [
    "# We have to create two separate variables\n",
    "# I am storing them in a single array just for convenience\n",
    "vars5 = [tf.Variable(0.1), tf.Variable(0.1)]\n",
    "\n",
    "lossfn5 = complicatedLossFunction(vars5[0], vars5[1], \n",
    "                                  placeholder_loss5[0], placeholder_loss5[1])\n",
    "\n",
    "# Create two separate optimizers (with separate learning rates)\n",
    "# And two separate minimization operations\n",
    "opts5 = [tf.train.AdamOptimizer(1e-2), tf.train.AdamOptimizer(1e-2)]\n",
    "\n",
    "min_ops5 = [opts5[i].minimize(lossfn5, var_list=vars5[i]) for i in range(2)]\n",
    "\n",
    "session5 = tf.Session()\n",
    "session5.run(tf.global_variables_initializer())"
   ]
  },
  {
   "cell_type": "code",
   "execution_count": 65,
   "metadata": {
    "ExecuteTime": {
     "end_time": "2018-04-21T05:06:30.777689Z",
     "start_time": "2018-04-21T05:06:27.029637Z"
    }
   },
   "outputs": [
    {
     "name": "stdout",
     "output_type": "stream",
     "text": [
      "Initial and final values after 1000 steps of iteration\n",
      "Loss 13.2281 ---> 0.01000001\n",
      "Variable 1 0.1 ---> 0.28571394\n",
      "Variable 2 0.1 ---> 0.9998962\n"
     ]
    },
    {
     "data": {
      "image/png": "[encoded data removed]",
      "text/plain": [
       "<Figure size 864x216 with 3 Axes>"
      ]
     },
     "metadata": {},
     "output_type": "display_data"
    }
   ],
   "source": [
    "# Run 1000 steps of optimization\n",
    "lossvals5 = []\n",
    "varvals5 = []\n",
    "\n",
    "for i in range(1000):\n",
    "    lossval, varval = session5.run([lossfn5, vars5], feed_dict={placeholder_loss5:params5})\n",
    "    lossvals5.append(lossval)\n",
    "    varvals5.append(varval)\n",
    "    \n",
    "    if lossval < 1e-5:\n",
    "        break\n",
    "    \n",
    "    # Alternating minimization\n",
    "    # First minimize the variable in vars5[0]\n",
    "    session5.run(min_ops5[0], feed_dict={placeholder_loss5: params5})\n",
    "    # Then minimize the variable in vars5[1]\n",
    "    session5.run(min_ops5[1], feed_dict={placeholder_loss5: params5})\n",
    "\n",
    "print('Initial and final values after %d steps of iteration'%len(lossvals5))\n",
    "print('Loss', lossvals5[0], '--->', lossvals5[-1])\n",
    "print('Variable 1', varvals5[0][0], '--->', varvals5[-1][0])\n",
    "print('Variable 2', varvals5[0][1], '--->', varvals5[-1][1])\n",
    "varvals5 = np.array(varvals5)\n",
    "        \n",
    "varvals5 = np.array(varvals5).T\n",
    "genPlot([np.log(lossvals5)] + [l for l in varvals5],\n",
    "        ['Log(loss)'] + ['var[%d]'%i for i in range(len(varvals5))])"
   ]
  },
  {
   "cell_type": "code",
   "execution_count": 26,
   "metadata": {
    "ExecuteTime": {
     "end_time": "2018-04-21T03:43:33.208541Z",
     "start_time": "2018-04-21T03:43:33.204258Z"
    }
   },
   "outputs": [],
   "source": [
    "tf.reset_default_graph()"
   ]
  }
 ],
 "metadata": {
  "kernelspec": {
   "display_name": "Python 3",
   "language": "python",
   "name": "python3"
  },
  "language_info": {
   "codemirror_mode": {
    "name": "ipython",
    "version": 3
   },
   "file_extension": ".py",
   "mimetype": "text/x-python",
   "name": "python",
   "nbconvert_exporter": "python",
   "pygments_lexer": "ipython3",
   "version": "3.6.8"
  },
  "varInspector": {
   "cols": {
    "lenName": 16,
    "lenType": 16,
    "lenVar": 40
   },
   "kernels_config": {
    "python": {
     "delete_cmd_postfix": "",
     "delete_cmd_prefix": "del ",
     "library": "var_list.py",
     "varRefreshCmd": "print(var_dic_list())"
    },
    "r": {
     "delete_cmd_postfix": ") ",
     "delete_cmd_prefix": "rm(",
     "library": "var_list.r",
     "varRefreshCmd": "cat(var_dic_list()) "
    }
   },
   "types_to_exclude": [
    "module",
    "function",
    "builtin_function_or_method",
    "instance",
    "_Feature"
   ],
   "window_display": false
  }
 },
 "nbformat": 4,
 "nbformat_minor": 2
}
