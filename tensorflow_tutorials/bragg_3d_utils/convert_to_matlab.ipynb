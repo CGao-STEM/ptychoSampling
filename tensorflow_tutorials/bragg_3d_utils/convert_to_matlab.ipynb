{
 "cells": [
  {
   "cell_type": "markdown",
   "metadata": {},
   "source": [
    "# Visualizing the 3d structures\n",
    "\n",
    "To visualize the true and reconstructed 3d structures:\n",
    "1. Pad the true structure so that the cell has the same shape as the reconstructed structure.\n",
    "2. Save the structures as matlab files.\n",
    "3. Use 'plot3d.m' within matlab for the visualization.\n",
    "\n",
    "**Note**:\n",
    "Some parts of this script assume the existence of the file containing the reconstructed crystal cell."
   ]
  },
  {
   "cell_type": "code",
   "execution_count": null,
   "metadata": {
    "collapsed": true,
    "pycharm": {
     "name": "#%%import numpy as np\n"
    }
   },
   "outputs": [],
   "source": [
    "import numpy as np\n",
    "from scipy import ndimage, io, stats"
   ]
  },
  {
   "cell_type": "code",
   "execution_count": null,
   "metadata": {
    "collapsed": false,
    "pycharm": {
     "name": "#%%\n"
    }
   },
   "outputs": [],
   "source": [
    "%load_ext autoreload\n",
    "%autoreload 2"
   ]
  },
  {
   "cell_type": "code",
   "execution_count": null,
   "metadata": {},
   "outputs": [],
   "source": [
    "cell_orig = np.load('../cell_faceted_2.npy') * 0.5\n",
    "cell_orig.shape"
   ]
  },
  {
   "cell_type": "code",
   "execution_count": null,
   "metadata": {},
   "outputs": [],
   "source": [
    "cell_padded = np.pad(cell_orig, [[18, 18],[50, 50],[25, 25]], mode='constant')\n",
    "cell_padded.shape"
   ]
  },
  {
   "cell_type": "code",
   "execution_count": null,
   "metadata": {},
   "outputs": [],
   "source": [
    "nonzero_indices = np.transpose(np.where(np.abs(cell_padded) > 0))\n",
    "raveled_indices = np.ravel_multi_index(nonzero_indices.T, cell_padded.shape)\n",
    "nonzero_vals = cell_padded.flatten()[raveled_indices]\n",
    "\n",
    "nonzero_vals = nonzero_vals * np.exp(-1j * stats.circmean(np.angle(nonzero_vals)))\n",
    "\n",
    "cell_padded_temp = np.zeros(cell_padded.size, dtype='complex64')\n",
    "cell_padded_temp[raveled_indices] = nonzero_vals\n",
    "cell_padded = cell_padded_temp.reshape(cell_padded.shape)"
   ]
  },
  {
   "cell_type": "code",
   "execution_count": null,
   "metadata": {},
   "outputs": [],
   "source": [
    "var_true = np.pad(cell_orig, [[1,1],[10,10],[10,10]], mode='constant')\n",
    "var_true.shape"
   ]
  },
  {
   "cell_type": "code",
   "execution_count": null,
   "metadata": {},
   "outputs": [],
   "source": [
    "var_reconstructed =  np.load('../reconstructed_faceted_cell_rotated_ki_and_kf_batch_400_stepsize_0.01.npy')\n",
    "var_padded = np.pad(var_reconstructed, [[18,18], [54,54], [22,22]], mode='constant')\n",
    "print(var_padded.shape)\n",
    "\n",
    "recons_nonzero_vals = (np.ravel(var_padded)[raveled_indices])\n",
    "\n",
    "# Removing the global phase shift\n",
    "recons_nonzero_vals = recons_nonzero_vals * np.exp(-1j * scipy.stats.circmean(np.angle(recons_nonzero_vals)))\n",
    "var_reconstructed = var_reconstructed * np.exp(-1j * scipy.stats.circmean(np.angle(recons_nonzero_vals)))\n",
    "var_padded = var_padded * np.exp(-1j * scipy.stats.circmean(np.angle(recons_nonzero_vals)))"
   ]
  },
  {
   "cell_type": "code",
   "execution_count": null,
   "metadata": {},
   "outputs": [],
   "source": [
    "var_reconstructed[np.abs(var_reconstructed)==0] = 0 + 0j\n",
    "var_reconstructed = np.roll(var_reconstructed, 1, axis=0)\n",
    "var_true[np.abs(var_true==0)] = 0 + 0j"
   ]
  },
  {
   "cell_type": "code",
   "execution_count": null,
   "metadata": {},
   "outputs": [],
   "source": [
    "io.savemat('cell_true_var', dict(cell_true=var_true))\n",
    "io.savemat('cell_recons_var', dict(cell_recons=var_reconstructed))"
   ]
  }
 ],
 "metadata": {
  "kernelspec": {
   "display_name": "Python 3",
   "language": "python",
   "name": "python3"
  },
  "language_info": {
   "codemirror_mode": {
    "name": "ipython",
    "version": 3
   },
   "file_extension": ".py",
   "mimetype": "text/x-python",
   "name": "python",
   "nbconvert_exporter": "python",
   "pygments_lexer": "ipython3",
   "version": "3.7.3"
  },
  "pycharm": {
   "stem_cell": {
    "cell_type": "raw",
    "metadata": {
     "collapsed": false
    },
    "source": []
   }
  }
 },
 "nbformat": 4,
 "nbformat_minor": 2
}
