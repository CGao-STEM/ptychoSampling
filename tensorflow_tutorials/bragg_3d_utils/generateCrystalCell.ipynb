{
 "cells": [
  {
   "cell_type": "code",
   "execution_count": 1,
   "metadata": {
    "ExecuteTime": {
     "end_time": "2018-09-07T17:44:39.875826Z",
     "start_time": "2018-09-07T17:44:37.822133Z"
    }
   },
   "outputs": [],
   "source": [
    "import numpy as np\n",
    "import scipy\n",
    "from scipy import spatial"
   ]
  },
  {
   "cell_type": "code",
   "execution_count": 2,
   "metadata": {
    "ExecuteTime": {
     "end_time": "2018-09-07T17:44:39.890109Z",
     "start_time": "2018-09-07T17:44:39.881490Z"
    }
   },
   "outputs": [],
   "source": [
    "def generateRandomPhase(img, mult):\n",
    "    x, y, z = np.meshgrid(np.arange(img.shape[0]), \n",
    "                          np.arange(img.shape[1]),\n",
    "                          np.arange(img.shape[2]))\n",
    "    normmax = lambda a: (a - np.mean(a)) / (np.max(a - np.mean(a))) \n",
    "    \n",
    "    x2 = normmax(x)\n",
    "    y2 = normmax(y)\n",
    "    z2 = normmax(z)\n",
    "    randm = np.random.random((3,3))\n",
    "    \n",
    "    _, R = np.linalg.eig(0.5 * (randm + randm.T))\n",
    "    pts = R @ np.array([x2.reshape(-1), y2.reshape(-1), z2.reshape(-1)])\n",
    "    phas = np.reshape(-np.pi + 2 * np.pi * \n",
    "                      np.sin(mult * 2 * np.pi * \n",
    "                             np.sum( (R @ pts)**2, axis=0)),\n",
    "                      np.shape(img))\n",
    "    img_complex = img * np.exp(1j * phas)\n",
    "    return img_complex"
   ]
  },
  {
   "cell_type": "code",
   "execution_count": 3,
   "metadata": {
    "ExecuteTime": {
     "end_time": "2018-09-07T17:44:39.901182Z",
     "start_time": "2018-09-07T17:44:39.895965Z"
    }
   },
   "outputs": [],
   "source": [
    "def getVoronoiCell(array_size, pts):\n",
    "    pts = np.vstack( (np.round(array_size / 2), pts))\n",
    "    x, y, z = np.meshgrid(array_size[0] * np.linspace(0, 1, array_size[0]),\n",
    "                          array_size[1] * np.linspace(0, 1, array_size[1]),\n",
    "                          array_size[2] * np.linspace(0, 1, array_size[2]))\n",
    "    samplePts = np.vstack((x.ravel(), y.ravel(), z.ravel())).T\n",
    "    dist = scipy.spatial.distance.cdist(samplePts, pts)\n",
    "    img = np.reshape(dist[:,0] == np.min(dist, axis=1), (array_size))\n",
    "    x, y, z = np.meshgrid( np.arange(img.shape[0]), np.arange(img.shape[1]), np.arange(img.shape[2]))\n",
    "    temp = np.vstack((x.ravel(), y.ravel(), z.ravel())).T\n",
    "    temp = temp[img.ravel() != 0]\n",
    "    centroid = np.mean(temp, axis=0)\n",
    "    shift = np.round(-centroid + array_size / 2)\n",
    "    img = np.roll(img, shift.astype('int'))\n",
    "    return img"
   ]
  },
  {
   "cell_type": "code",
   "execution_count": 4,
   "metadata": {
    "ExecuteTime": {
     "end_time": "2018-09-07T17:44:39.915043Z",
     "start_time": "2018-09-07T17:44:39.906720Z"
    }
   },
   "outputs": [],
   "source": [
    "def generateCrystalCell(N = 25, x_points=128, y_points=128, z_points=70):\n",
    "    \"\"\"\n",
    "    Parameters:\n",
    "    N = 25 # Number of Delaunay mesh points\n",
    "    arr = np.array([x_points, y_points, z_points]) # desired array size\n",
    "    \"\"\"\n",
    "    arr = np.array([x_points, y_points, z_points])\n",
    "    \n",
    "    # Generating random distribution of polar coordinates, normally distributed \n",
    "    # in the radial direction and uniform in azimuthal and polar directions.\n",
    "    cosTheta = -1 + 2 * np.random.random((1,N))\n",
    "    sinTheta = np.sin(np.arccos(cosTheta))\n",
    "    phi = np.pi * (-1 + 2 * np.random.random((1, N)))\n",
    "    r = np.min(arr) / 3.5 + 0.5 * np.random.random((1, N))\n",
    "\n",
    "    # 'pts' contains Delaunay mesh points\n",
    "    pts = np.vstack([r * sinTheta * np.cos(phi),\n",
    "                    r * cosTheta * np.sin(phi), \n",
    "                    r * cosTheta * np.ones(phi.shape)])\n",
    "\n",
    "    # rotating mesh points by a random rotation\n",
    "    R, _, _ = np.linalg.svd(np.random.random((3,3)))\n",
    "    pts = (R @ pts).T\n",
    "\n",
    "    # adding central point at origin\n",
    "    pts = np.append([[0,0,0]], pts, axis=0)\n",
    "    pts = pts + np.repeat(arr[None, :] / 2, N + 1, axis=0)\n",
    "\n",
    "    img = generateRandomPhase(getVoronoiCell(arr, pts), 2)\n",
    "\n",
    "    return img "
   ]
  },
  {
   "cell_type": "code",
   "execution_count": 17,
   "metadata": {
    "ExecuteTime": {
     "end_time": "2018-09-07T17:55:02.058873Z",
     "start_time": "2018-09-07T17:55:00.399614Z"
    }
   },
   "outputs": [],
   "source": [
    "cell = generateCrystalCell(N=30, x_points=128, y_points=128, z_points=128)"
   ]
  },
  {
   "cell_type": "code",
   "execution_count": 13,
   "metadata": {
    "ExecuteTime": {
     "end_time": "2018-09-05T19:15:30.430269Z",
     "start_time": "2018-09-05T19:15:30.369945Z"
    }
   },
   "outputs": [
    {
     "name": "stdout",
     "output_type": "stream",
     "text": [
      "(40, 40, 26)\n"
     ]
    }
   ],
   "source": [
    "# Trimming and then ading a padding of 1 pixel to the generated cell.\n",
    "\n",
    "cell_new = cell.copy()\n",
    "cell_new_temp = []\n",
    "for i in range(cell_new.shape[0]):\n",
    "    if not (cell_new[i] == 0).all():\n",
    "        cell_new_temp.append(cell_new[i])\n",
    "cell_new = np.transpose(np.array(cell_new_temp), axes=(1, 0, 2))\n",
    "\n",
    "cell_new_temp = []\n",
    "for i in range(cell_new.shape[0]):\n",
    "    if not (cell_new[i] == 0).all():\n",
    "        cell_new_temp.append(cell_new[i])\n",
    "cell_new = np.transpose(np.array(cell_new_temp), axes=(2, 1, 0))\n",
    "\n",
    "cell_new_temp = []\n",
    "for i in range(cell_new.shape[0]):\n",
    "    if not (cell_new[i] == 0).all():\n",
    "        cell_new_temp.append(cell_new[i])\n",
    "cell_new = np.array(cell_new_temp)\n",
    "cell_new = np.pad(cell_new, [[1,1 + cell_new.shape[0] % 2],\n",
    "                             [1,1 + cell_new.shape[1] % 2],\n",
    "                             [1,1 + cell_new.shape[2] % 2]], mode='constant')\n",
    "print(cell_new.shape)"
   ]
  },
  {
   "cell_type": "code",
   "execution_count": 16,
   "metadata": {
    "ExecuteTime": {
     "end_time": "2018-09-05T19:16:39.638083Z",
     "start_time": "2018-09-05T19:16:39.631104Z"
    }
   },
   "outputs": [],
   "source": [
    "np.save('cell_faceted.npy', cell_new)"
   ]
  }
 ],
 "metadata": {
  "kernelspec": {
   "display_name": "Python 3",
   "language": "python",
   "name": "python3"
  },
  "language_info": {
   "codemirror_mode": {
    "name": "ipython",
    "version": 3
   },
   "file_extension": ".py",
   "mimetype": "text/x-python",
   "name": "python",
   "nbconvert_exporter": "python",
   "pygments_lexer": "ipython3",
   "version": "3.7.3"
  },
  "varInspector": {
   "cols": {
    "lenName": 16,
    "lenType": 16,
    "lenVar": 40
   },
   "kernels_config": {
    "python": {
     "delete_cmd_postfix": "",
     "delete_cmd_prefix": "del ",
     "library": "var_list.py",
     "varRefreshCmd": "print(var_dic_list())"
    },
    "r": {
     "delete_cmd_postfix": ") ",
     "delete_cmd_prefix": "rm(",
     "library": "var_list.r",
     "varRefreshCmd": "cat(var_dic_list()) "
    }
   },
   "types_to_exclude": [
    "module",
    "function",
    "builtin_function_or_method",
    "instance",
    "_Feature"
   ],
   "window_display": false
  }
 },
 "nbformat": 4,
 "nbformat_minor": 2
}
