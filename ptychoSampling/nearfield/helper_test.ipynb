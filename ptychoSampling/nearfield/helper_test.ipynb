{
 "cells": [
  {
   "cell_type": "code",
   "execution_count": 1,
   "metadata": {},
   "outputs": [],
   "source": [
    "import numpy as np\n",
    "import scipy\n",
    "import skimage, skimage.transform, skimage.data\n",
    "from skimage.feature import register_translation\n",
    "from typing import NamedTuple, Optional, List, Tuple\n",
    "import tensorflow as tf\n",
    "import attr\n",
    "from tqdm import tqdm_notebook as tqdm\n",
    "from pandas import DataFrame"
   ]
  },
  {
   "cell_type": "code",
   "execution_count": 2,
   "metadata": {},
   "outputs": [],
   "source": [
    "def getSampleObj(npix: int = 256, \n",
    "                 mod_range: float = 1, \n",
    "                 phase_range: float = np.pi)-> np.ndarray:\n",
    "    \"\"\"Creates a sample complex-valued object using stock data from the skimage library.\n",
    "    \n",
    "    Uses the stock camera image for the phase and the \n",
    "    stock immunohistochemistry image (channel 0) for the modulus [1].\n",
    "    \n",
    "    Parameters\n",
    "    ----------\n",
    "    npix : \n",
    "        Number of pixels in each axis of the object\n",
    "    \n",
    "    mod_range : \n",
    "        Maximum value of the modulus for the object pixels.\n",
    "    \n",
    "    phase_range : \n",
    "        Maximum value of the phase for the object pixels.\n",
    "    \n",
    "    Returns\n",
    "    -------\n",
    "    out : complex ndarray\n",
    "        A 2d array of shape npix x npix and dtype complex64.\n",
    "    \n",
    "    References\n",
    "    ----------\n",
    "    .. [1] https://scikit-image.org/docs/dev/api/skimage.data.html\n",
    "    \n",
    "    \"\"\"\n",
    "    \n",
    "    phase_img = skimage.img_as_float(skimage.data.camera())[::-1,::-1]\n",
    "    mod_img = skimage.img_as_float(skimage.data.immunohistochemistry()[:,:,0])[::-1,::-1]\n",
    "    mod = skimage.transform.resize(mod_img, [npix, npix], \n",
    "                                   mode='wrap', preserve_range=True) \n",
    "    phase = skimage.transform.resize(phase_img, [npix, npix],\n",
    "                                     mode='wrap', preserve_range=True)\n",
    "    \n",
    "    # Setting the ranges\n",
    "    phase = (phase - np.min(phase)) / (np.max(phase) - np.min(phase)) * phase_range\n",
    "    mod = (mod - np.min(mod)) / (np.max(mod) - np.min(mod)) * mod_range\n",
    "    \n",
    "    # Centering the phase at 0.\n",
    "    phase = np.angle(np.exp(1j * (phase - scipy.stats.circmean(phase))))\n",
    "    \n",
    "    obj = mod * np.exp(1j * phase)\n",
    "    return obj.astype('complex64')"
   ]
  },
  {
   "cell_type": "code",
   "execution_count": null,
   "metadata": {},
   "outputs": [],
   "source": []
  }
 ],
 "metadata": {
  "kernelspec": {
   "display_name": "Python 3",
   "language": "python",
   "name": "python3"
  },
  "language_info": {
   "codemirror_mode": {
    "name": "ipython",
    "version": 3
   },
   "file_extension": ".py",
   "mimetype": "text/x-python",
   "name": "python",
   "nbconvert_exporter": "python",
   "pygments_lexer": "ipython3",
   "version": "3.6.8"
  }
 },
 "nbformat": 4,
 "nbformat_minor": 2
}
