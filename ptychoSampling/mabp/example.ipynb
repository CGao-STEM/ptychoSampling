{
 "cells": [
  {
   "cell_type": "code",
   "execution_count": 1,
   "metadata": {},
   "outputs": [
    {
     "name": "stderr",
     "output_type": "stream",
     "text": [
      "WARNING: Logging before flag parsing goes to stderr.\n",
      "W0925 14:06:37.410280 140661544752960 deprecation_wrapper.py:119] From /raid/home/skandel/code/ptychoSampling_v2/ptychoSampling/reconstruction/optimization.py:5: The name tf.train.Optimizer is deprecated. Please use tf.compat.v1.train.Optimizer instead.\n",
      "\n"
     ]
    }
   ],
   "source": [
    "import numpy as np\n",
    "from ptychoSampling.reconstruction.recons import BraggPtychoReconstructionT\n",
    "from ptychoSampling.utils.utils import getRandomComplexArray\n",
    "import matplotlib.pyplot as plt\n",
    "import tensorflow as tf\n",
    "from copy import deepcopy\n",
    "from ptychoSampling.mabp.simulation import Simulation\n",
    "import dill"
   ]
  },
  {
   "cell_type": "code",
   "execution_count": 2,
   "metadata": {},
   "outputs": [],
   "source": [
    "%load_ext autoreload\n",
    "%autoreload 2"
   ]
  },
  {
   "cell_type": "code",
   "execution_count": 3,
   "metadata": {},
   "outputs": [],
   "source": [
    "# Whether to reload existing simulation data (if available) or to create new data\n",
    "reload_simulation = True"
   ]
  },
  {
   "cell_type": "code",
   "execution_count": 4,
   "metadata": {},
   "outputs": [
    {
     "name": "stderr",
     "output_type": "stream",
     "text": [
      "I0925 14:06:37.584599 140661544752960 simulation.py:122] Creating new detector.\n",
      "I0925 14:06:37.585316 140661544752960 simulation.py:203] Creating new crystal cell.\n",
      "I0925 14:06:39.045631 140661544752960 simulation.py:211] Adding x and z borders to crystal cell based on detector parameters.\n",
      "I0925 14:06:39.051578 140661544752960 simulation.py:235] Creating new guassian, speckled, 2d probe.\n",
      "W0925 14:06:39.052179 140661544752960 probe.py:83] If width_npix is supplied, then any supplied width_dist is ignored.\n",
      "I0925 14:06:39.055747 140661544752960 simulation.py:241] Rotating and interpolating the 2d probe to generate the 3d probe.\n",
      "W0925 14:06:39.137800 140661544752960 simulation.py:167] Adding zero padding to the object in the y-direction so that the overall object y-width covers the entirety of the feasible probe positions.\n",
      "I0925 14:06:39.168017 140661544752960 simulation.py:188] creating new 2d scan grid based on object and probe shapes.\n",
      "I0925 14:06:39.201351 140661544752960 simulation.py:194] Using created 2d scan grid to create full RC scan grid.\n",
      "I0925 14:06:39.207221 140661544752960 simulation.py:310] Calculating the phase modulations for the rc angles.\n",
      "I0925 14:06:39.592775 140661544752960 simulation.py:344] Calculating the generated diffraction patterns.\n"
     ]
    }
   ],
   "source": [
    "if reload_simulation:\n",
    "    try:\n",
    "        with open('simulation.pkl', 'rb') as f:\n",
    "            sim = dill.load(f)\n",
    "        with open('scan_grid_filtered.pkl', 'rb') as f:\n",
    "            scan_grid_filtered = dill.load(f)\n",
    "        with open('intensities_filtered.pkl', 'rb') as f:\n",
    "            intensities_filtered = dill.load(f)\n",
    "    except:\n",
    "        sim = Simulation()\n",
    "        scan_grid_filtered, intensities_filtered = sim.filterScanPositionsAndIntensities(threshold=1.0)\n",
    "        \n",
    "        names_items = {'simulation': sim, \n",
    "                       'scan_grid_filtered':scan_grid_filtered,\n",
    "                       'intensities_filtered': intensities_filtered}\n",
    "                       #'obj':obj, \n",
    "                       #'probe_3d':probe_3d, \n",
    "                       #'detector':detector}\n",
    "        for name, item in names_items.items():\n",
    "            with open(f'{name}.pkl', 'wb') as f:\n",
    "                dill.dump(item, f)\n",
    "else:\n",
    "    sim = Simulation()\n",
    "    scan_grid_filtered, intensities_filtered = sim.filterScanPositionsAndIntensities(threshold=1.0)"
   ]
  },
  {
   "cell_type": "markdown",
   "metadata": {},
   "source": [
    "# Starting the reconstruction with a random object guess"
   ]
  },
  {
   "cell_type": "code",
   "execution_count": 5,
   "metadata": {},
   "outputs": [],
   "source": [
    "obj_guess = deepcopy(sim.obj)\n",
    "obj_guess.array = getRandomComplexArray(shape=obj_guess.array.shape, phase_range=2*np.pi)"
   ]
  },
  {
   "cell_type": "code",
   "execution_count": 6,
   "metadata": {},
   "outputs": [
    {
     "name": "stderr",
     "output_type": "stream",
     "text": [
      "I0925 14:07:17.626192 140661544752960 recons.py:493] initializing...\n",
      "I0925 14:07:18.341092 140661544752960 recons.py:36] creating batches...\n",
      "W0925 14:07:18.837472 140661544752960 deprecation.py:323] From /raid/home/skandel/code/ptychoSampling_v2/ptychoSampling/reconstruction/recons.py:225: DatasetV1.make_one_shot_iterator (from tensorflow.python.data.ops.dataset_ops) is deprecated and will be removed in a future version.\n",
      "Instructions for updating:\n",
      "Use `for ... in dataset:` to iterate over a dataset. If using `tf.estimator`, return the `Dataset` object directly from your input function. As a last resort, you can use `tf.compat.v1.data.make_one_shot_iterator(dataset)`.\n",
      "I0925 14:07:18.920374 140661544752960 recons.py:39] creating log...\n",
      "I0925 14:07:18.921055 140661544752960 recons.py:496] attaching fwd model...\n",
      "I0925 14:07:18.954765 140661544752960 forwardmodel_t.py:28] Creating obj views for the scan positions.\n",
      "I0925 14:07:25.677743 140661544752960 forwardmodel_t.py:224] Creating the phase modulations for the scan angles.\n",
      "I0925 14:07:28.122750 140661544752960 recons.py:498] creating loss fn...\n",
      "W0925 14:07:28.141592 140661544752960 deprecation_wrapper.py:119] From /raid/home/skandel/code/ptychoSampling_v2/ptychoSampling/reconstruction/wavefront_t.py:98: The name tf.fft2d is deprecated. Please use tf.signal.fft2d instead.\n",
      "\n",
      "I0925 14:07:28.263501 140661544752960 recons.py:500] creating optimizers...\n",
      "W0925 14:07:28.264347 140661544752960 deprecation_wrapper.py:119] From /raid/home/skandel/code/ptychoSampling_v2/ptychoSampling/reconstruction/optimization.py:11: The name tf.train.AdamOptimizer is deprecated. Please use tf.compat.v1.train.AdamOptimizer instead.\n",
      "\n",
      "W0925 14:07:28.282083 140661544752960 deprecation.py:323] From /raid/home/skandel/miniconda3/envs/ad/lib/python3.7/site-packages/tensorflow/python/ops/math_grad.py:1205: add_dispatch_support.<locals>.wrapper (from tensorflow.python.ops.array_ops) is deprecated and will be removed in a future version.\n",
      "Instructions for updating:\n",
      "Use tf.where in 2.0, which has the same broadcast rule as np.where\n"
     ]
    }
   ],
   "source": [
    "r = BraggPtychoReconstructionT(obj = obj_guess, \n",
    "                               probe=sim.probe_3d,\n",
    "                               grid=scan_grid_filtered,\n",
    "                               intensities=intensities_filtered,\n",
    "                               batch_size=100,\n",
    "                               n_validation=50,\n",
    "                               obj_array_true=sim.obj.array)"
   ]
  },
  {
   "cell_type": "code",
   "execution_count": 7,
   "metadata": {},
   "outputs": [
    {
     "name": "stderr",
     "output_type": "stream",
     "text": [
      "I0925 14:07:42.281826 140661544752960 recons.py:243] finalizing the data logger.\n",
      "I0925 14:07:42.282702 140661544752960 datalogs_t.py:101] Initializing the log outputs...\n",
      "W0925 14:07:42.290891 140661544752960 deprecation_wrapper.py:119] From /raid/home/skandel/code/ptychoSampling_v2/ptychoSampling/reconstruction/recons.py:246: The name tf.ConfigProto is deprecated. Please use tf.compat.v1.ConfigProto instead.\n",
      "\n",
      "I0925 14:07:42.291635 140661544752960 recons.py:248] Initializing the session.\n",
      "W0925 14:07:42.292303 140661544752960 deprecation_wrapper.py:119] From /raid/home/skandel/code/ptychoSampling_v2/ptychoSampling/reconstruction/recons.py:249: The name tf.Session is deprecated. Please use tf.compat.v1.Session instead.\n",
      "\n",
      "W0925 14:07:44.379778 140661544752960 deprecation_wrapper.py:119] From /raid/home/skandel/code/ptychoSampling_v2/ptychoSampling/reconstruction/recons.py:250: The name tf.global_variables_initializer is deprecated. Please use tf.compat.v1.global_variables_initializer instead.\n",
      "\n",
      "I0925 14:07:48.042157 140661544752960 recons.py:251] Finalized setup.\n"
     ]
    },
    {
     "name": "stdout",
     "output_type": "stream",
     "text": [
      "       epoch  train_loss  validation_loss  validation_min   patience  obj_error\n",
      "1          0    5.14e+06         2.37e+06        2.37e+06         50          1\n",
      "401         10   3.41e+04   1.68e+04   1.68e+04         50      0.779\n",
      "801         20   1.69e+04   8.13e+03   8.13e+03         50      0.558\n",
      "1201         30   1.73e+04   7.84e+03   7.84e+03         50      0.541\n",
      "1601         40   1.82e+04   7.88e+03   7.84e+03         50      0.541\n",
      "2001         50   1.75e+04   7.95e+03   7.84e+03         50      0.533\n"
     ]
    }
   ],
   "source": [
    "r.run(max_iterations=10000, patience=200)"
   ]
  },
  {
   "cell_type": "code",
   "execution_count": 8,
   "metadata": {},
   "outputs": [
    {
     "data": {
      "text/plain": [
       "<matplotlib.colorbar.Colorbar at 0x7fedcb912630>"
      ]
     },
     "execution_count": 8,
     "metadata": {},
     "output_type": "execute_result"
    },
    {
     "data": {
      "image/png": "[encoded data removed]",
      "text/plain": [
       "<Figure size 432x288 with 2 Axes>"
      ]
     },
     "metadata": {
      "needs_background": "light"
     },
     "output_type": "display_data"
    }
   ],
   "source": [
    "plt.pcolormesh(np.abs(r.obj.array[11]))\n",
    "plt.colorbar()"
   ]
  },
  {
   "cell_type": "code",
   "execution_count": 9,
   "metadata": {},
   "outputs": [
    {
     "data": {
      "text/plain": [
       "<matplotlib.colorbar.Colorbar at 0x7fedcb85d208>"
      ]
     },
     "execution_count": 9,
     "metadata": {},
     "output_type": "execute_result"
    },
    {
     "data": {
      "image/png": "[encoded data removed]",
      "text/plain": [
       "<Figure size 432x288 with 2 Axes>"
      ]
     },
     "metadata": {
      "needs_background": "light"
     },
     "output_type": "display_data"
    }
   ],
   "source": [
    "plt.pcolormesh(np.abs(sim.obj.array[11]))\n",
    "plt.colorbar()"
   ]
  }
 ],
 "metadata": {
  "kernelspec": {
   "display_name": "Python 3",
   "language": "python",
   "name": "python3"
  },
  "language_info": {
   "codemirror_mode": {
    "name": "ipython",
    "version": 3
   },
   "file_extension": ".py",
   "mimetype": "text/x-python",
   "name": "python",
   "nbconvert_exporter": "python",
   "pygments_lexer": "ipython3",
   "version": "3.7.3"
  }
 },
 "nbformat": 4,
 "nbformat_minor": 4
}
